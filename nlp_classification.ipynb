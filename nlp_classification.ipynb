{
 "cells": [
  {
   "cell_type": "code",
   "execution_count": 298,
   "metadata": {
    "collapsed": true,
    "ExecuteTime": {
     "end_time": "2023-05-26T10:09:28.337158Z",
     "start_time": "2023-05-26T10:09:28.331214Z"
    }
   },
   "outputs": [
    {
     "name": "stderr",
     "output_type": "stream",
     "text": [
      "[nltk_data] Downloading package stopwords to\n",
      "[nltk_data]     /Users/arseniskobelev/nltk_data...\n",
      "[nltk_data]   Package stopwords is already up-to-date!\n"
     ]
    }
   ],
   "source": [
    "import logging\n",
    "import pandas as pd\n",
    "import numpy as np\n",
    "from numpy import random\n",
    "import nltk\n",
    "from sklearn.model_selection import train_test_split\n",
    "import matplotlib.pyplot as plt\n",
    "%matplotlib inline\n",
    "import nltk\n",
    "nltk.download('stopwords')\n",
    "from nltk.corpus import stopwords\n",
    "import re\n",
    "%matplotlib inline"
   ]
  },
  {
   "cell_type": "code",
   "execution_count": 299,
   "outputs": [
    {
     "name": "stdout",
     "output_type": "stream",
     "text": [
      "                                InputData                            Function\n",
      "320                Please create a volume  Kubernetes.Create.PersistentVolume\n",
      "321                       Create a volume  Kubernetes.Create.PersistentVolume\n",
      "322              Please delete deployment        Kubernetes.Delete.Deployment\n",
      "323              Delete deployment please        Kubernetes.Delete.Deployment\n",
      "324  Could you please delete a deployment        Kubernetes.Delete.Deployment\n",
      "325     I need you to delete a deployment        Kubernetes.Delete.Deployment\n",
      "326        Could you create a pod for me?               Kubernetes.Create.Pod\n",
      "327               Could you create a pod?               Kubernetes.Create.Pod\n",
      "328                      I need a new pod               Kubernetes.Create.Pod\n",
      "329               I need a new deployment        Kubernetes.Create.Deployment\n"
     ]
    }
   ],
   "source": [
    "df = pd.read_csv('./data.csv', sep=';')\n",
    "df = df[pd.notnull(df['InputData'])]\n",
    "\n",
    "# remove unused columns\n",
    "# df = df.drop('RawInputData', axis=1)\n",
    "df = df.drop('DockerImage', axis=1)\n",
    "df = df.drop('DockerImageVersion', axis=1)\n",
    "df = df.drop('KubernetesGracePeriodInSeconds', axis=1)\n",
    "df = df.drop('KubernetesNamespace', axis=1)\n",
    "df = df.drop('KubernetesObjectName', axis=1)\n",
    "df = df.drop('Service', axis=1)\n",
    "df = df.drop('Method', axis=1)\n",
    "df = df.drop('KubernetesObjectType', axis=1)\n",
    "\n",
    "print(df.tail(10))"
   ],
   "metadata": {
    "collapsed": false,
    "ExecuteTime": {
     "end_time": "2023-05-26T10:09:28.348604Z",
     "start_time": "2023-05-26T10:09:28.336475Z"
    }
   }
  },
  {
   "cell_type": "code",
   "execution_count": 300,
   "outputs": [
    {
     "name": "stdout",
     "output_type": "stream",
     "text": [
      "                          InputData               Function\n",
      "0             create kubernetes pod  Kubernetes.Create.Pod\n",
      "1       could create kubernetes pod  Kubernetes.Create.Pod\n",
      "2      want create pod inkubernetes  Kubernetes.Create.Pod\n",
      "3                   want create pod  Kubernetes.Create.Pod\n",
      "4                        create pod  Kubernetes.Create.Pod\n",
      "5             pod kubernetes create  Kubernetes.Create.Pod\n",
      "6             pod create kubernetes  Kubernetes.Create.Pod\n",
      "7                new kubernetes pod  Kubernetes.Create.Pod\n",
      "8                new pod kubernetes  Kubernetes.Create.Pod\n",
      "9  please create new pod kubernetes  Kubernetes.Create.Pod\n"
     ]
    }
   ],
   "source": [
    "REPLACE_BY_SPACE_RE = re.compile('[/(){}\\[\\]\\|@,;]')\n",
    "BAD_SYMBOLS_RE = re.compile('[^0-9a-z #+_]')\n",
    "STOPWORDS = set(stopwords.words('english'))\n",
    "\n",
    "def clean_text(text):\n",
    "    \"\"\"\n",
    "        text: a string\n",
    "\n",
    "        return: modified initial string\n",
    "    \"\"\"\n",
    "    text = text.lower() # lowercase text\n",
    "    text = REPLACE_BY_SPACE_RE.sub(' ', text) # replace REPLACE_BY_SPACE_RE symbols by space in text\n",
    "    text = BAD_SYMBOLS_RE.sub('', text) # delete symbols which are in BAD_SYMBOLS_RE from text\n",
    "    text = ' '.join(word for word in text.split() if word not in STOPWORDS) # delete stopwords from text\n",
    "    return text\n",
    "\n",
    "df['InputData'] = df['InputData'].apply(clean_text)\n",
    "print(df.head(10))"
   ],
   "metadata": {
    "collapsed": false,
    "ExecuteTime": {
     "end_time": "2023-05-26T10:09:28.353964Z",
     "start_time": "2023-05-26T10:09:28.345782Z"
    }
   }
  },
  {
   "cell_type": "code",
   "execution_count": 301,
   "outputs": [],
   "source": [
    "X = df.InputData\n",
    "y = df.Function\n",
    "\n",
    "X_train, X_test, y_train, y_test = train_test_split(X, y, test_size=0.4, random_state=42)"
   ],
   "metadata": {
    "collapsed": false,
    "ExecuteTime": {
     "end_time": "2023-05-26T10:09:28.368366Z",
     "start_time": "2023-05-26T10:09:28.350882Z"
    }
   }
  },
  {
   "cell_type": "code",
   "execution_count": 302,
   "outputs": [
    {
     "name": "stdout",
     "output_type": "stream",
     "text": [
      "accuracy 0.8484848484848485\n"
     ]
    }
   ],
   "source": [
    "from sklearn.metrics import accuracy_score\n",
    "from sklearn.naive_bayes import MultinomialNB\n",
    "from sklearn.pipeline import Pipeline\n",
    "from sklearn.feature_extraction.text import TfidfTransformer, CountVectorizer\n",
    "\n",
    "model = Pipeline([('vect', CountVectorizer()),\n",
    "                  ('tfidf', TfidfTransformer()),\n",
    "                  ('clf', MultinomialNB()),\n",
    "                  ])\n",
    "model.fit(X_train, y_train)\n",
    "\n",
    "functions = df['Function'].unique()\n",
    "\n",
    "# %%time\n",
    "from sklearn.metrics import classification_report\n",
    "y_pred = model.predict(X_test)\n",
    "#\n",
    "print('accuracy %s' % accuracy_score(y_pred, y_test))\n",
    "# print(classification_report(y_test, y_pred, target_names=functions))"
   ],
   "metadata": {
    "collapsed": false,
    "ExecuteTime": {
     "end_time": "2023-05-26T10:09:28.368586Z",
     "start_time": "2023-05-26T10:09:28.354571Z"
    }
   }
  },
  {
   "cell_type": "code",
   "execution_count": 303,
   "outputs": [],
   "source": [
    "def predict_with_fallback(model_repr, input_data_param, threshold_param, fallback_value):\n",
    "    # Predict probabilities for the input samples\n",
    "    proba = model_repr.predict_proba(input_data_param)\n",
    "\n",
    "    # Get the maximum predicted probability for each sample\n",
    "    max_proba = np.max(proba, axis=1)\n",
    "    print(max_proba)\n",
    "\n",
    "    # Check if the maximum predicted probability is above the threshold\n",
    "    if np.any(max_proba > threshold_param):\n",
    "        # At least one sample has a predicted probability above the threshold\n",
    "        # Return the predictions for those samples\n",
    "        predictions = model_repr.predict(input_data_param)\n",
    "        return predictions[0]\n",
    "\n",
    "    else:\n",
    "        return fallback_value\n"
   ],
   "metadata": {
    "collapsed": false,
    "ExecuteTime": {
     "end_time": "2023-05-26T10:09:28.368627Z",
     "start_time": "2023-05-26T10:09:28.363734Z"
    }
   }
  },
  {
   "cell_type": "code",
   "execution_count": 306,
   "outputs": [
    {
     "name": "stdout",
     "output_type": "stream",
     "text": [
      "[0.4968405]\n",
      "Prediction with threshold: Kubernetes.Create.PersistentVolume\n",
      "Normal prediction: Kubernetes.Create.PersistentVolume\n"
     ]
    }
   ],
   "source": [
    "input_data = [\"I need a new persistent volume\"]\n",
    "\n",
    "threshold = .4\n",
    "\n",
    "normal_prediction = model.predict(input_data)[0]\n",
    "prediction_with_threshold = predict_with_fallback(\n",
    "    model_repr=model,\n",
    "    input_data_param=input_data,\n",
    "    fallback_value=\"General.Output.UnknownCommand\",\n",
    "    threshold_param=threshold\n",
    ")\n",
    "\n",
    "print(f\"Prediction with threshold: {prediction_with_threshold}\")\n",
    "print(f\"Normal prediction: {normal_prediction}\")\n",
    "\n"
   ],
   "metadata": {
    "collapsed": false,
    "ExecuteTime": {
     "end_time": "2023-05-26T10:09:37.671004Z",
     "start_time": "2023-05-26T10:09:37.666813Z"
    }
   }
  },
  {
   "cell_type": "code",
   "execution_count": 304,
   "outputs": [],
   "source": [],
   "metadata": {
    "collapsed": false,
    "ExecuteTime": {
     "end_time": "2023-05-26T10:09:28.386831Z",
     "start_time": "2023-05-26T10:09:28.369997Z"
    }
   }
  }
 ],
 "metadata": {
  "kernelspec": {
   "display_name": "Python 3",
   "language": "python",
   "name": "python3"
  },
  "language_info": {
   "codemirror_mode": {
    "name": "ipython",
    "version": 2
   },
   "file_extension": ".py",
   "mimetype": "text/x-python",
   "name": "python",
   "nbconvert_exporter": "python",
   "pygments_lexer": "ipython2",
   "version": "2.7.6"
  }
 },
 "nbformat": 4,
 "nbformat_minor": 0
}
