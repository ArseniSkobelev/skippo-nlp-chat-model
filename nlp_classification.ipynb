{
 "cells": [
  {
   "cell_type": "code",
   "execution_count": 73,
   "metadata": {
    "collapsed": true,
    "ExecuteTime": {
     "end_time": "2023-05-24T10:28:28.255353Z",
     "start_time": "2023-05-24T10:28:28.253451Z"
    }
   },
   "outputs": [
    {
     "name": "stderr",
     "output_type": "stream",
     "text": [
      "[nltk_data] Downloading package stopwords to\n",
      "[nltk_data]     /Users/arseniskobelev/nltk_data...\n",
      "[nltk_data]   Package stopwords is already up-to-date!\n"
     ]
    }
   ],
   "source": [
    "import logging\n",
    "import pandas as pd\n",
    "import numpy as np\n",
    "from numpy import random\n",
    "import gensim\n",
    "import nltk\n",
    "from sklearn.model_selection import train_test_split\n",
    "import matplotlib.pyplot as plt\n",
    "%matplotlib inline\n",
    "import nltk\n",
    "nltk.download('stopwords')\n",
    "from nltk.corpus import stopwords\n",
    "import re\n",
    "%matplotlib inline"
   ]
  },
  {
   "cell_type": "code",
   "execution_count": 74,
   "outputs": [
    {
     "name": "stdout",
     "output_type": "stream",
     "text": [
      "                                         InputData   \n",
      "315                     I need a persistent volume  \\\n",
      "316                        create persisten volume   \n",
      "317                                  create volume   \n",
      "318                            I need a new volume   \n",
      "319                     I need a volume for my pod   \n",
      "320  I need a new persistent volume for my new pod   \n",
      "321                 create a volume for my new pod   \n",
      "322                               I need a new pod   \n",
      "323                                   need new pod   \n",
      "324                                 new pod please   \n",
      "\n",
      "                               Function  \n",
      "315  Kubernetes.Create.PersistentVolume  \n",
      "316  Kubernetes.Create.PersistentVolume  \n",
      "317  Kubernetes.Create.PersistentVolume  \n",
      "318  Kubernetes.Create.PersistentVolume  \n",
      "319  Kubernetes.Create.PersistentVolume  \n",
      "320  Kubernetes.Create.PersistentVolume  \n",
      "321  Kubernetes.Create.PersistentVolume  \n",
      "322               Kubernetes.Create.Pod  \n",
      "323               Kubernetes.Create.Pod  \n",
      "324               Kubernetes.Create.Pod  \n"
     ]
    }
   ],
   "source": [
    "df = pd.read_csv('./data.csv', sep=';')\n",
    "df = df[pd.notnull(df['InputData'])]\n",
    "\n",
    "# remove unused columns\n",
    "# df = df.drop('RawInputData', axis=1)\n",
    "df = df.drop('DockerImage', axis=1)\n",
    "df = df.drop('DockerImageVersion', axis=1)\n",
    "df = df.drop('KubernetesGracePeriodInSeconds', axis=1)\n",
    "df = df.drop('KubernetesNamespace', axis=1)\n",
    "df = df.drop('KubernetesObjectName', axis=1)\n",
    "df = df.drop('Service', axis=1)\n",
    "df = df.drop('Method', axis=1)\n",
    "df = df.drop('KubernetesObjectType', axis=1)\n",
    "\n",
    "print(df.tail(10))"
   ],
   "metadata": {
    "collapsed": false,
    "ExecuteTime": {
     "end_time": "2023-05-24T10:28:28.270672Z",
     "start_time": "2023-05-24T10:28:28.257708Z"
    }
   }
  },
  {
   "cell_type": "code",
   "execution_count": 75,
   "outputs": [
    {
     "name": "stdout",
     "output_type": "stream",
     "text": [
      "                          InputData               Function\n",
      "0             create kubernetes pod  Kubernetes.Create.Pod\n",
      "1       could create kubernetes pod  Kubernetes.Create.Pod\n",
      "2      want create pod inkubernetes  Kubernetes.Create.Pod\n",
      "3                   want create pod  Kubernetes.Create.Pod\n",
      "4                        create pod  Kubernetes.Create.Pod\n",
      "5             pod kubernetes create  Kubernetes.Create.Pod\n",
      "6             pod create kubernetes  Kubernetes.Create.Pod\n",
      "7                new kubernetes pod  Kubernetes.Create.Pod\n",
      "8                new pod kubernetes  Kubernetes.Create.Pod\n",
      "9  please create new pod kubernetes  Kubernetes.Create.Pod\n"
     ]
    }
   ],
   "source": [
    "REPLACE_BY_SPACE_RE = re.compile('[/(){}\\[\\]\\|@,;]')\n",
    "BAD_SYMBOLS_RE = re.compile('[^0-9a-z #+_]')\n",
    "STOPWORDS = set(stopwords.words('english'))\n",
    "\n",
    "def clean_text(text):\n",
    "    \"\"\"\n",
    "        text: a string\n",
    "\n",
    "        return: modified initial string\n",
    "    \"\"\"\n",
    "    text = text.lower() # lowercase text\n",
    "    text = REPLACE_BY_SPACE_RE.sub(' ', text) # replace REPLACE_BY_SPACE_RE symbols by space in text\n",
    "    text = BAD_SYMBOLS_RE.sub('', text) # delete symbols which are in BAD_SYMBOLS_RE from text\n",
    "    text = ' '.join(word for word in text.split() if word not in STOPWORDS) # delete stopwords from text\n",
    "    return text\n",
    "\n",
    "df['InputData'] = df['InputData'].apply(clean_text)\n",
    "print(df.head(10))"
   ],
   "metadata": {
    "collapsed": false,
    "ExecuteTime": {
     "end_time": "2023-05-24T10:28:28.270886Z",
     "start_time": "2023-05-24T10:28:28.266616Z"
    }
   }
  },
  {
   "cell_type": "code",
   "execution_count": 76,
   "outputs": [],
   "source": [
    "X = df.InputData\n",
    "y = df.Function\n",
    "\n",
    "X_train, X_test, y_train, y_test = train_test_split(X, y, test_size=0.4, random_state=42)"
   ],
   "metadata": {
    "collapsed": false,
    "ExecuteTime": {
     "end_time": "2023-05-24T10:28:28.286719Z",
     "start_time": "2023-05-24T10:28:28.271934Z"
    }
   }
  },
  {
   "cell_type": "code",
   "execution_count": 77,
   "outputs": [
    {
     "name": "stdout",
     "output_type": "stream",
     "text": [
      "accuracy 0.7923076923076923\n"
     ]
    }
   ],
   "source": [
    "from sklearn.metrics import accuracy_score\n",
    "from sklearn.naive_bayes import MultinomialNB\n",
    "from sklearn.pipeline import Pipeline\n",
    "from sklearn.feature_extraction.text import TfidfTransformer, CountVectorizer\n",
    "\n",
    "model = Pipeline([('vect', CountVectorizer()),\n",
    "                  ('tfidf', TfidfTransformer()),\n",
    "                  ('clf', MultinomialNB()),\n",
    "                  ])\n",
    "model.fit(X_train, y_train)\n",
    "\n",
    "functions = df['Function'].unique()\n",
    "\n",
    "# %%time\n",
    "from sklearn.metrics import classification_report\n",
    "y_pred = model.predict(X_test)\n",
    "#\n",
    "print('accuracy %s' % accuracy_score(y_pred, y_test))\n",
    "# print(classification_report(y_test, y_pred, target_names=functions))"
   ],
   "metadata": {
    "collapsed": false,
    "ExecuteTime": {
     "end_time": "2023-05-24T10:28:28.287917Z",
     "start_time": "2023-05-24T10:28:28.286855Z"
    }
   }
  },
  {
   "cell_type": "code",
   "execution_count": 78,
   "outputs": [],
   "source": [
    "def predict_with_fallback(model_repr, input_data_param, threshold_param, fallback_value):\n",
    "    # Predict probabilities for the input samples\n",
    "    proba = model_repr.predict_proba(input_data_param)\n",
    "\n",
    "    # Get the maximum predicted probability for each sample\n",
    "    max_proba = np.max(proba, axis=1)\n",
    "    print(max_proba)\n",
    "\n",
    "    # Check if the maximum predicted probability is above the threshold\n",
    "    if np.any(max_proba > threshold_param):\n",
    "        # At least one sample has a predicted probability above the threshold\n",
    "        # Return the predictions for those samples\n",
    "        predictions = model_repr.predict(input_data_param)\n",
    "        return predictions[0]\n",
    "\n",
    "    else:\n",
    "        return fallback_value\n"
   ],
   "metadata": {
    "collapsed": false,
    "ExecuteTime": {
     "end_time": "2023-05-24T10:28:28.288021Z",
     "start_time": "2023-05-24T10:28:28.287305Z"
    }
   }
  },
  {
   "cell_type": "code",
   "execution_count": 94,
   "outputs": [
    {
     "name": "stdout",
     "output_type": "stream",
     "text": [
      "[0.28686206]\n",
      "Prediction with threshold: General.Output.UnknownCommand\n",
      "Normal prediction: Kubernetes.Delete.Deployment\n"
     ]
    }
   ],
   "source": [
    "input_data = [\"Do you like chicken?\"]\n",
    "\n",
    "threshold = .4\n",
    "\n",
    "normal_prediction = model.predict(input_data)[0]\n",
    "prediction_with_threshold = predict_with_fallback(\n",
    "    model_repr=model,\n",
    "    input_data_param=input_data,\n",
    "    fallback_value=\"General.Output.UnknownCommand\",\n",
    "    threshold_param=threshold\n",
    ")\n",
    "\n",
    "print(f\"Prediction with threshold: {prediction_with_threshold}\")\n",
    "print(f\"Normal prediction: {normal_prediction}\")\n",
    "\n"
   ],
   "metadata": {
    "collapsed": false,
    "ExecuteTime": {
     "end_time": "2023-05-24T10:30:12.609913Z",
     "start_time": "2023-05-24T10:30:12.605699Z"
    }
   }
  },
  {
   "cell_type": "code",
   "execution_count": 79,
   "outputs": [],
   "source": [],
   "metadata": {
    "collapsed": false,
    "ExecuteTime": {
     "end_time": "2023-05-24T10:28:28.290802Z",
     "start_time": "2023-05-24T10:28:28.289513Z"
    }
   }
  }
 ],
 "metadata": {
  "kernelspec": {
   "display_name": "Python 3",
   "language": "python",
   "name": "python3"
  },
  "language_info": {
   "codemirror_mode": {
    "name": "ipython",
    "version": 2
   },
   "file_extension": ".py",
   "mimetype": "text/x-python",
   "name": "python",
   "nbconvert_exporter": "python",
   "pygments_lexer": "ipython2",
   "version": "2.7.6"
  }
 },
 "nbformat": 4,
 "nbformat_minor": 0
}
